{
  "cells": [
    {
      "cell_type": "markdown",
      "source": [
        "# Question generation\n",
        "Inspired by [this Haystack tutorial](https://haystack.deepset.ai/tutorials/question-generation)"
      ],
      "metadata": {
        "id": "iiNbGRn-KitL"
      },
      "id": "iiNbGRn-KitL"
    },
    {
      "cell_type": "markdown",
      "source": [
        "## Preliminary operations"
      ],
      "metadata": {
        "id": "viixGIJcKPSQ"
      },
      "id": "viixGIJcKPSQ"
    },
    {
      "cell_type": "code",
      "source": [
        "from google.colab import drive\n",
        "drive.mount('/content/drive')"
      ],
      "metadata": {
        "colab": {
          "base_uri": "https://localhost:8080/"
        },
        "id": "MevE4jEZ5QBT",
        "outputId": "136106e4-40c9-4443-ee84-784fb922e188"
      },
      "id": "MevE4jEZ5QBT",
      "execution_count": 1,
      "outputs": [
        {
          "output_type": "stream",
          "name": "stdout",
          "text": [
            "Mounted at /content/drive\n"
          ]
        }
      ]
    },
    {
      "cell_type": "code",
      "source": [
        "# install dependencies\n",
        "! pip install farm-haystack[faiss-gpu]"
      ],
      "metadata": {
        "id": "VYWRJ-Lf55nV"
      },
      "id": "VYWRJ-Lf55nV",
      "execution_count": null,
      "outputs": []
    },
    {
      "cell_type": "markdown",
      "source": [
        "## Load data"
      ],
      "metadata": {
        "id": "QVDuHAMIK4bg"
      },
      "id": "QVDuHAMIK4bg"
    },
    {
      "cell_type": "code",
      "execution_count": 4,
      "id": "72139774",
      "metadata": {
        "execution": {
          "iopub.execute_input": "2022-01-09T08:40:46.176031Z",
          "iopub.status.busy": "2022-01-09T08:40:46.175755Z",
          "iopub.status.idle": "2022-01-09T08:40:46.179554Z",
          "shell.execute_reply": "2022-01-09T08:40:46.178704Z",
          "shell.execute_reply.started": "2022-01-09T08:40:46.175959Z"
        },
        "id": "72139774"
      },
      "outputs": [],
      "source": [
        "import glob\n",
        "import json\n",
        "import os"
      ]
    },
    {
      "cell_type": "code",
      "execution_count": 7,
      "id": "4421e328",
      "metadata": {
        "execution": {
          "iopub.execute_input": "2022-01-09T08:40:47.846999Z",
          "iopub.status.busy": "2022-01-09T08:40:47.846757Z",
          "iopub.status.idle": "2022-01-09T08:40:48.327632Z",
          "shell.execute_reply": "2022-01-09T08:40:48.326829Z",
          "shell.execute_reply.started": "2022-01-09T08:40:47.846975Z"
        },
        "id": "4421e328"
      },
      "outputs": [],
      "source": [
        "DATA_DIRECTORY = '/content/drive/MyDrive/Colab Notebooks/wklp/data'\n",
        "\n",
        "docs=[]\n",
        "\n",
        "for json_file in glob.glob(f'{DATA_DIRECTORY}/*.json'):\n",
        "  # select only the largest documents\n",
        "  if os.path.getsize (json_file)>=5000:\n",
        "    with open(json_file, 'r') as fin: \n",
        "        json_content=json.load(fin)\n",
        "        \n",
        "    doc={'content': json_content['text'],\n",
        "        'meta': {'name': json_content['name'],\n",
        "                 'url': json_content['url']}}\n",
        "    docs.append(doc)"
      ]
    },
    {
      "cell_type": "code",
      "source": [
        "len(docs)"
      ],
      "metadata": {
        "colab": {
          "base_uri": "https://localhost:8080/"
        },
        "id": "GR6qWQAn72WG",
        "outputId": "1198a602-7f4e-444a-f8f4-05b488663799"
      },
      "id": "GR6qWQAn72WG",
      "execution_count": 8,
      "outputs": [
        {
          "output_type": "execute_result",
          "data": {
            "text/plain": [
              "134"
            ]
          },
          "metadata": {},
          "execution_count": 8
        }
      ]
    },
    {
      "cell_type": "code",
      "execution_count": 9,
      "id": "aa231b94",
      "metadata": {
        "execution": {
          "iopub.execute_input": "2022-01-09T08:40:48.796741Z",
          "iopub.status.busy": "2022-01-09T08:40:48.796550Z",
          "iopub.status.idle": "2022-01-09T08:40:48.805224Z",
          "shell.execute_reply": "2022-01-09T08:40:48.804705Z",
          "shell.execute_reply.started": "2022-01-09T08:40:48.796722Z"
        },
        "colab": {
          "base_uri": "https://localhost:8080/"
        },
        "id": "aa231b94",
        "outputId": "3d88f0a8-635d-419c-8660-f6c77803e369"
      },
      "outputs": [
        {
          "output_type": "execute_result",
          "data": {
            "text/plain": [
              "{'content': 'Part 5\\nNot to be confused with Episode 5.\\n\"Part 5\" is the fifth episode of the 2017 series of Twin Peaks and the thirty-fifth episode of the franchise as a whole. It aired on June 4, 2017.\\nPlot\\n\"Case files.\"\\n ―Dale Cooper\\nGene and Jake sit in a car, the former on the phone with Lorraine, reporting on the situation with Dougie Jones. Frustrated, she sends the message \"2\" (leaving 159 characters to type) to her contact \"ARGENT\" which causes a device in Buenos Aires to ring and flash twice with its two red lights.\\nConstance Talbot, Detective Macklay, and Detective Harrison observe the John Doe in the morgue. Talbot confirms the decapitation as the man\\'s cause of death and presents a ring found inside the body. On it is an inscription that reads, \"To Dougie, with love, Janey-E.\"\\nCooper\\'s doppelganger sits in his jail cell and correctly predicts that his food is coming. He takes his food and goes to the mirror, noting that BOB is still with him.\\nAt his place of employment, Mike Nelson calls in Steven Burnett, who has applied for a job. Mike tells him that his resume is inadequate and his forms were filled out incorrectly, then kicks him out.\\nSheriff Frank Truman talks to Harry on the phone and is informed by Lucy Brennan that his wife, Doris, is coming to him. Doris tells him about her frustrations, including a leaky pipe.\\nJaney-E, Sonny Jim and Cooper leave the Jones home and Janey-E tells Cooper that he had won $425,000. He looks at Sonny Jim and begins to shed tears. On realization that Dougie\\'s car is not there, Janey-E begrudgingly takes Cooper to Dougie\\'s work.\\nGene and Jake check on Dougie\\'s car again, which still has not moved. A group of delinquent youths also drive by the car.\\nJaney-E drops Cooper off at work and he wanders, following the aim of a statue of a man carrying a revolver. He stands around until Dougie\\'s co-worker, Phil Bisby comes carrying coffee on his way to a board meeting. Following him into the elevator, Cooper takes one of the coffees and begins drinking the \"damn good Joe.\" It was Frank\\'s one who then takes a green tea latte instead while Darren is turned down by Rhonda and Bonnici next to Frank is served the eighth cup carried by Phil.\\nAnthony Sinclair tells Cooper that he has covered for Dougie\\'s absence and during the meeting, as Sinclair presents a report. When saying that there was no arson with Littlefield, Cooper blurts out \"He\\'s lying,\" but does not elaborate, causing the boss Bushnell Mullins to have \"Dougie\" meet with him after the meeting. Mullins questions his accusation and gives him case files to assess by the next day.\\nRodney and Bradley Mitchum come to the Silver Mustang Casino and in front of Candie, Mandie and Sandie punish Burns for Cooper\\'s win at the casino and replace Burns with Warrick, who they tell to inform them if Cooper ever returns to the casino.\\nWhile his mother is passed out on drugs, the little boy living in the home across from Dougie\\'s car goes to examine it. He is shooed away by the gang of youths, arriving in a loud black 1970 Dodge Charger, who try to steal the car. The bomb under Dougie\\'s car explodes, killing several members of the gang, and the boy runs back to his home. Hearing him coming back in, his mother slowly wakes up and stares at the door.\\nAn auto detailer informs Jade that he found a set of keys for the Great Northern Hotel in her car. Since they have an address on them, she puts them inside a mailbox for delivery.\\nNorma sorts through documents as Heidi is serving and Becky delivers bread to Toad and gets money from Shelly. Norma goes to Shelly, urging her to help Becky rather than continue to enable her. Becky takes the money to Steven and they snort a drug.\\nCooper is pushed out of the elevator at the end of the workday and he goes to the statue he saw that morning.\\nAt the Twin Peaks sheriff\\'s station, Hawk and Andy continue to sort through files.\\nJacoby starts up his webcast he hosts as \"Dr. Amp\" and it is viewed by Jerry Horne—who smokes a joint—and Nadine Hurley. His broadcast ends with an advertisement for his golden shovels that he urges his viewers to buy to shovel themselves \"out of the shit and into the truth.\"\\nAt the Pentagon, Lieutenant Cynthia Knox informs Colonel Davis that they have received a match on Major Garland Briggs\\' fingerprints – the sixteenth match in 25 years – in Buckhorn, South Dakota. Davis doubts the legitimacy of the match but says that if it is indeed truly Briggs that has been identified, that the FBI must be informed.\\nThe band Trouble plays at the Roadhouse as Richard Horne smokes underneath a \\'no smoking\\' sign. Employee Federico asks him to quit and the off-duty Deputy Chad Broxford takes over but ends up taking a bribe from Horne. Charlotte, from the next table over with Elizabeth, asks him for a light, but he grabs her and threatens to rape her.\\nAgent Preston examines Cooper\\'s file and compares his fingerprints from before his 1989 disappearance and from the doppelganger\\'s booking at the federal prison.\\nWarden Murphy gives the doppelganger his phone call. However, the doppelganger dials a number that sets off the prison\\'s alarms and he says \"The cow jumped over the moon,\" before hanging up, stopping the alarms.\\nIn Buenos Aires, the device contacted before by Lorraine rings and flashes twice with its two red lights and then shrinks to a kind of seed.\\nCooper continues to observe the statue.\\nCredits\\n\\nStarring\\nKyle MacLachlan as Dale Cooper / Dale Cooper (doppelganger)\\nIn Alphabetical Order\\nJane Adams as Constance Talbot\\nMädchen Amick as Shelly\\nTammie Baird as Lorraine\\nChrysta Bell as FBI Agent Tammy Preston\\nJim Belushi as Bradley Mitchum\\nSean Bolger as Detailer\\nBrent Briscoe as Detective Dave Macklay\\nWes Brown as Darren\\nJuan Carlos Cantu as Officer Reynaldo\\nVincent Castellanos as Federico\\nBailey Chase as Detective Don Harrison\\nCandy Clark as Doris Truman\\nGrace Victoria Cox as Charlotte\\nGiselle Damier as Sandie\\nDavid Dastmalchian as Pit Boss Warrick\\nJosh Fadem as Phil Bisby\\nEamon Farren as Richard Horne\\nRobert Forster as Sheriff Frank Truman\\nPierce Gagnon as Sonny Jim Jones\\nHailey Gates as Drugged-out Mother\\nBrett Gelman as Supervisor Burns\\nHarry Goaz as Deputy Andy Brennan\\nHank Harris as Prison Tech\\nAndrea Hays as Heidi\\nGary Hershberger as Mike Nelson\\nMichael Horse as Deputy Chief Tommy \"Hawk\" Hill\\nErnie Hudson as Colonel Davis\\nCaleb Landry Jones as Steven Burnett\\nDavid Patrick Kelly as Jerry Horne\\nRobert Knepper as Rodney Mitchum\\nAndrea Leal as Mandie\\nSheryl Lee as Laura Palmer\\nJane Levy as Elizabeth\\nPeggy Lipton as Norma Jennings\\nKarl Makinen as Inspector Randy Hollister\\nJames Morrison as Warden Dwight Murphy\\nDon Murray as Bushnell Mullins\\nJohn Pirruccello as Deputy Chad Broxford\\nAdele René as Lieutenant Cynthia Cox\\nKimmy Robertson as Lucy Brennan\\nWendy Robie as Nadine Hurley\\nMarv Rosand as Toad\\nElena Satine as Rhonda\\nAmanda Seyfried as Rebecca (Becky) Burnett\\nAmie Shiels as Candie\\nSawyer Shipman as Little Boy\\nFrank Silva as Bob\\nTom Sizemore as Anthony Sinclair\\nBob Stephenson as Frank\\nRuss Tamblyn as Dr. Lawrence Jacoby\\nBill Tangradi as Jake\\nGreg Vrotsos as Gene\\nNaomi Watts as Janey-E Jones\\nNafessa Williams as Jade\\nBlake Zingale as Punk Leader\\nTrouble:\\nRiley Lynch\\nSam Smith\\nAlex Zhang Hungtai\\nDean Hurley\\nUncredited\\nTyler Malik as stand-in\\nKenneth Welsh as Windom Earle (archive footage)\\nUnknown performer as Bonnici\\nUnknown performer as Woman in elevator\\nUnknown performer as Man across Mullins\\nUnknown performer as Woman at meeting\\nUnknown performer as Mullins\\' secretary\\nProduction staff\\nSee: Twin Peaks (2017) § Production staff\\nFeatured music\\n\"The Flame\"\\nWritten and performed by Johnny Jewel\\nCourtesy of Italians Do It Better\\n\"Frank 2000\"\\nWritten by Angelo Badalamenti and David Lynch\\nPerformed by Thought Gang\\n\"I Love How You Love Me\"\\nWritten by Barry Mann and Larry Kolber\\nPerformed by The Paris Sisters\\nPublished by Screen Gems-EMI Music Inc. (BMI)\\n\"I Am\"\\nWritten and performed by BluntedBeatz\\n\"Stars And Stripes Forever\"\\nWritten by John Philip Sousa\\nPerformed and arranged by the U.S. Army Band\\n\"Snake Eyes\"\\nWritten by Dean Hurley, Riley Lynch and Alex Zhang Hungtai\\nPerformed by Trouble\\n\"Habit\" and \"Tabloid\"\\nWritten and performed by Uniform\\nCourtesy of Sacred Bones Records\\n\"Windswept\"\\nWritten and performed by Johnny Jewel\\nCourtesy of Italians Do It Better\\nNotes\\nThis episode was dedicated to the memory of Marv Rosand.\\nAmy Shiels is credited as \"Amie\".\\nFrank, Dougie\\'s coworker who discovers he likes green tea lattes, is played by Bob Stephenson, who appeared in Episode 6 as the burger cook at the Double R Diner. This was Stephenson\\'s first acting gig.\\nUpon release, Twin Peaks: The Return earned some criticism for earning the \"Empty Cup Award,\" a satirical achievement for television series where actors handle coffee cups that are claimed to be full in the dialogue but are very clearly empty based on how they are handled by the performers. In the case of this episode, however, Kyle MacLachlan was given some praise for being the sole actor to handle his cup as though it were actually full, especially in an episode where a character (Phil Bisby) unrealistically balances two full trays of coffee while running around.\\nThe statue in front of Dougie\\'s workplace was not originally part of location and was brought by the production staff. It might be a statue of Donald Lynch, father of David Lynch, since according to the stand-in Tyler Malkin, Lynch talked to it saying \"Hi, Dad\".\\nThe numbers input by the doppelganger during his phone call are, using the standard DTMF tones pitched up 2 octaves for offscreen ones:\\n16 (pause) 1235789 (computer modem response) 3135378912315 (01189998819991197253 offscreen)\\nThis could be interpreted as two numbers dialing to get an outside line from the internal prison phone system, then a 7 digit local number calling a computer set up beforehand with a local number so it would be a free local call and finally a code that triggers a pre-planned, automated hack of the prison systems.',\n",
              " 'meta': {'name': 'Part_5', 'url': 'https://twinpeaks.fandom.com/wiki/Part_5'}}"
            ]
          },
          "metadata": {},
          "execution_count": 9
        }
      ],
      "source": [
        "docs[5]"
      ]
    },
    {
      "cell_type": "markdown",
      "source": [
        "## Define document store ([FAISS](https://github.com/facebookresearch/faiss)) and write documents\n",
        "\n"
      ],
      "metadata": {
        "id": "Yu3bAUPoLrPI"
      },
      "id": "Yu3bAUPoLrPI"
    },
    {
      "cell_type": "code",
      "execution_count": 10,
      "id": "bfe846df",
      "metadata": {
        "execution": {
          "iopub.execute_input": "2022-01-09T08:40:59.678181Z",
          "iopub.status.busy": "2022-01-09T08:40:59.678003Z",
          "iopub.status.idle": "2022-01-09T08:40:59.753228Z",
          "shell.execute_reply": "2022-01-09T08:40:59.752500Z",
          "shell.execute_reply.started": "2022-01-09T08:40:59.678161Z"
        },
        "id": "bfe846df",
        "colab": {
          "base_uri": "https://localhost:8080/"
        },
        "outputId": "be9c9ef8-bcc4-4c4a-e7a5-9003077a7ea3"
      },
      "outputs": [
        {
          "output_type": "stream",
          "name": "stderr",
          "text": [
            "INFO - haystack.modeling.model.optimization -  apex not found, won't use it. See https://nvidia.github.io/apex/\n",
            "ERROR - root -  Failed to import 'magic' (from 'python-magic' and 'python-magic-bin' on Windows). FileTypeClassifier will not perform mimetype detection on extensionless files. Please make sure the necessary OS libraries are installed if you need this functionality.\n",
            "INFO - haystack.telemetry -  Haystack sends anonymous usage data to understand the actual usage and steer dev efforts towards features that are most meaningful to users. You can opt-out at anytime by calling disable_telemetry() or by manually setting the environment variable HAYSTACK_TELEMETRY_ENABLED as described for different operating systems on the documentation page. More information at https://haystack.deepset.ai/guides/telemetry\n"
          ]
        }
      ],
      "source": [
        "from haystack.document_stores import FAISSDocumentStore\n",
        "\n",
        "# the document store settings are those compatible with Embedding Retriever\n",
        "document_store = FAISSDocumentStore(\n",
        "    similarity=\"dot_product\",\n",
        "    embedding_dim=768)"
      ]
    },
    {
      "cell_type": "code",
      "execution_count": 11,
      "id": "191144b4",
      "metadata": {
        "execution": {
          "iopub.execute_input": "2022-01-09T08:41:10.695292Z",
          "iopub.status.busy": "2022-01-09T08:41:10.695064Z",
          "iopub.status.idle": "2022-01-09T08:41:22.144864Z",
          "shell.execute_reply": "2022-01-09T08:41:22.144203Z",
          "shell.execute_reply.started": "2022-01-09T08:41:10.695271Z"
        },
        "colab": {
          "base_uri": "https://localhost:8080/",
          "height": 49,
          "referenced_widgets": [
            "81c8d8eb80d64687bdcc31ab1e3f156e",
            "b18ba72ca8e94c508fde617b04b82273",
            "0cc8731e80994ab097236f295da512c7",
            "e1b08799bca14b7aa8aed017b5545923",
            "4ee263ae48834c5dbb138a5dbe2183bd",
            "ae4e66819ab04f68a867768d03bc4a04",
            "6bba9b7051f64993a477688eb8c6ed92",
            "96e28522b93b4c77a9d6da982d601465",
            "9eb3c190c28b47618572ecd9e3b80932",
            "887b5bcc8d1e4c38b40700d324424f33",
            "3739785a410b4eadb0c36881e41b88ed"
          ]
        },
        "id": "191144b4",
        "outputId": "f564e88e-be20-4f20-b4ed-4c663bfd71ac"
      },
      "outputs": [
        {
          "output_type": "display_data",
          "data": {
            "text/plain": [
              "Writing Documents:   0%|          | 0/134 [00:00<?, ?it/s]"
            ],
            "application/vnd.jupyter.widget-view+json": {
              "version_major": 2,
              "version_minor": 0,
              "model_id": "81c8d8eb80d64687bdcc31ab1e3f156e"
            }
          },
          "metadata": {}
        }
      ],
      "source": [
        "# write documents\n",
        "document_store.write_documents(docs)\n"
      ]
    },
    {
      "cell_type": "code",
      "source": [
        "len(document_store.get_all_documents())"
      ],
      "metadata": {
        "colab": {
          "base_uri": "https://localhost:8080/"
        },
        "id": "fCVArUtw1rV5",
        "outputId": "852fc261-c684-4f65-d17f-011f2b1860d0"
      },
      "id": "fCVArUtw1rV5",
      "execution_count": 23,
      "outputs": [
        {
          "output_type": "execute_result",
          "data": {
            "text/plain": [
              "134"
            ]
          },
          "metadata": {},
          "execution_count": 23
        }
      ]
    },
    {
      "cell_type": "markdown",
      "source": [
        "## Generate questions and save them"
      ],
      "metadata": {
        "id": "oPOm5UsJxG37"
      },
      "id": "oPOm5UsJxG37"
    },
    {
      "cell_type": "code",
      "source": [
        "from haystack.nodes import QuestionGenerator\n",
        "from haystack.pipelines import QuestionGenerationPipeline\n",
        "from haystack.utils import launch_es, print_questions\n"
      ],
      "metadata": {
        "id": "dYf2rgwzxa1z"
      },
      "id": "dYf2rgwzxa1z",
      "execution_count": 16,
      "outputs": []
    },
    {
      "cell_type": "code",
      "source": [
        "OUTPUT_QUESTIONS_FILE='/content/drive/MyDrive/Colab Notebooks/wklp/questions.txt'"
      ],
      "metadata": {
        "id": "EnQk6d0FzlnT"
      },
      "id": "EnQk6d0FzlnT",
      "execution_count": 19,
      "outputs": []
    },
    {
      "cell_type": "code",
      "source": [
        "# Initialize Question Generator\n",
        "question_generator = QuestionGenerator()\n",
        "\n",
        "question_generation_pipeline = QuestionGenerationPipeline(question_generator)\n",
        "for idx, document in enumerate(document_store):\n",
        "    if idx%5==0:\n",
        "      print(idx/len(docs)*100)\n",
        "    results = question_generation_pipeline.run(documents=[document])\n",
        "\n",
        "    # save to file\n",
        "    questions_for_doc=f'{idx}: {document.content[:100]}...\\n'+'-'*15+'\\n'\n",
        "    if \"generated_questions\" in results.keys():\n",
        "      for result in results[\"generated_questions\"]:\n",
        "          for question in result[\"questions\"]:\n",
        "              questions_for_doc+=(f\" - {question}\\n\")\n",
        "    with open(OUTPUT_QUESTIONS_FILE,'a+') as fo:\n",
        "      fo.write(questions_for_doc)"
      ],
      "metadata": {
        "id": "8fYMVd_ggJnw",
        "colab": {
          "base_uri": "https://localhost:8080/"
        },
        "outputId": "880c4204-854c-49fc-f82b-ec008076b662"
      },
      "id": "8fYMVd_ggJnw",
      "execution_count": 24,
      "outputs": [
        {
          "metadata": {
            "tags": null
          },
          "name": "stderr",
          "output_type": "stream",
          "text": [
            "INFO - haystack.modeling.utils -  Using devices: CUDA\n",
            "INFO - haystack.modeling.utils -  Number of GPUs: 1\n"
          ]
        },
        {
          "output_type": "stream",
          "name": "stdout",
          "text": [
            "0.0\n",
            "3.731343283582089\n",
            "7.462686567164178\n",
            "11.194029850746269\n",
            "14.925373134328357\n",
            "18.65671641791045\n",
            "22.388059701492537\n",
            "26.119402985074625\n",
            "29.850746268656714\n",
            "33.582089552238806\n",
            "37.3134328358209\n",
            "41.04477611940299\n",
            "44.776119402985074\n",
            "48.507462686567166\n",
            "52.23880597014925\n",
            "55.970149253731336\n",
            "59.70149253731343\n",
            "63.43283582089553\n",
            "67.16417910447761\n",
            "70.8955223880597\n",
            "74.6268656716418\n",
            "78.35820895522389\n",
            "82.08955223880598\n",
            "85.82089552238806\n",
            "89.55223880597015\n"
          ]
        }
      ]
    },
    {
      "cell_type": "code",
      "source": [
        "print(questions_for_doc)\n",
        "print_questions(results)"
      ],
      "metadata": {
        "colab": {
          "base_uri": "https://localhost:8080/"
        },
        "id": "1i2C6PhSKHZY",
        "outputId": "ba202bf9-b445-43ca-c267-7fd873a80e81"
      },
      "id": "1i2C6PhSKHZY",
      "execution_count": 30,
      "outputs": [
        {
          "output_type": "stream",
          "name": "stdout",
          "text": [
            "124: Jerry Horne\n",
            "Jeremy \"Jerry\" Horne was the playboy brother of Benjamin Horne and the uncle of Audrey a...\n",
            "---------------\n",
            " -  Who was the playboy brother of Benjamin Horne?\n",
            " -  What was Jerry Horne's uncle's name?\n",
            " -  Who did Jerry watch in his childhood?\n",
            " -  Who did Jerry watch dance with with a flashlight?\n",
            " -  Who was the place kicker in the starting lineup of Twin Peaks High School football team of 1968?\n",
            " -  Who was a member of the Bookhouse Boys?\n",
            " -  When did Big Ed graduate from Gonzaga University?\n",
            " -  Who graduated last in his class at Gonzaga in 1974?\n",
            " -  What year did Jerry begin working with his brother to find business partners for the Ghostwood Development Project?\n",
            " -  What state had Jerry's license to practice law revoked?\n",
            " -  Who was the owner of the Canadian brothel and casino?\n",
            " -  When did Jerry come to the Great Northern Hotel after a trip to Paris?\n",
            " -  What did Jerry bring to Ben?\n",
            " -  Who brought a sandwich for Ben?\n",
            " -  Who told Ben about the murder of Laura Palmer?\n",
            " -  What was the name of the Norwegians who were set to sign the Ghostwood deal?\n",
            " -  What was the name of the brothel's madame?\n",
            " -  Who brought out the drinks at One Eyed Jacks?\n",
            " -  What was one of the brothers first in line?\n",
            " -  Who was the brothel's madame?\n",
            " -  Who brought out the girls?\n",
            " -  What did Jerry lose for Blackie O'Reilly?\n",
            " -  When did Jerry arrive at the Great Northern?\n",
            " -  Who did Jerry tell his brother about?\n",
            " -  What Icelandic woman did Jerry fall for?\n",
            " -  Who did Ben propose to have the visitors sign the deal with?\n",
            " -  What did Jerry do when he broke down crying?\n",
            " -  Where did Jerry go after Jerry broke down?\n",
            " -  What caused Jerry to close the office doors when he broke down crying?\n",
            " -  Who did Jerry woo at a party held for the businessmen at the Great Northern?\n",
            " -  What caused Leland to have a misunderstanding?\n",
            " -  What caused Leland to have a breakdown?\n",
            " -  Jerry went to his brother, who said, \"get Doctor Jacoby, a net, and get out of my life\"?\n",
            " -  What was Ben's only beverage?\n",
            " -  What did Ben have in his mug of beer?\n",
            " -  Who was asked to dismiss them to the dining room?\n",
            " -  What was the name of the restaurant Jerry wanted to go to?\n",
            " -  What did Jerry do to Blackie?\n",
            " -  How did Jerry react to the question about Ben?\n",
            " -  What was Jerry's reaction to Jerry leaving her?\n",
            " -  What did Jerry say she used to be?\n",
            " -  Where did Jerry go to find Ben?\n",
            " -  Who did Jerry leave her with?\n",
            " -  Where did Ben and Leland Palmer discuss Catherine Martell's whereabouts?\n",
            " -  What was Leo Johnson's medical condition?\n",
            " -  What song did Hank Jennings dance with?\n",
            " -  What did Leland say he was back and ready for?\n",
            " -  Who left the night after Josie Packard left?\n",
            " -  Hank Jennings waited for Josie Packard to leave the night before?\n",
            " -  Jerry took issue with Leo apparently chopping wood inside what house?\n",
            " -  Hank noted the probability that what was dead in the wreckage of the mill?\n",
            " -  Who sat with Jerry the next day?\n",
            " -  Who sat with Jerry in front of the two ledgers for the Packard Sawmill?\n",
            " -  What did Jerry go to Ben's office with an insurance policy for the mill?\n",
            " -  Who signed the insurance policy?\n",
            " -  Who signed an insurance policy for the mill?\n",
            " -  Who did Ben have him call the Icelanders as Leland entered?\n",
            " -  What did Einar Thorson say about the fire?\n",
            " -  Who said that Leland called him about the fire?\n",
            " -  What did Ben say to Jerry?\n",
            " -  How long after Jerry's death did he go to the police?\n",
            " -  Who did Jerry ask to kill?\n",
            " -  What was Jerry's brother in custody for?\n",
            " -  Who was Leland responsible for murdering?\n",
            " -  Who did Ben say he was with the night Laura was killed?\n",
            " -  What did Ben and Catherine reminisce about when they were boys?\n",
            " -  Who was the FBI Special Agent that Ben was questioned by?\n",
            " -  Who were the FBI Special Agents questioned by?\n",
            " -  Who was the Sheriff?\n",
            " -  What was Jerry's brother's background in law?\n",
            " -  What did Laura's diary make about Ben?\n",
            " -  Who granted Jerry's request to be left alone with Ben for a moment?\n",
            " -  Jerry reprimanded Ben for what outburst?\n",
            " -  What was the name of the one-armed man brought before Benjamin?\n",
            " -  What did Jerry order Truman to do?\n",
            " -  How long had Ben been held?\n",
            " -  Who charged Ben with Laura's murder?\n",
            " -  What did Ben try to do to the sheriff but Jerry restrained him?\n",
            " -  When was Ben released?\n",
            " -  Who lost the Ghostwood Development Plan to Catherine Martell?\n",
            " -  Who brought Jerry to Ben's office?\n",
            " -  What did Ben believe Jerry to be?\n",
            " -  Who believed Ben to be Jeb Stuart?\n",
            " -  What did Jacoby believe did not help his mental state?\n",
            " -  Who did Jerry tell Audrey that Ben was fun in?\n",
            " -  What role did Ben play in Ben's Civil War?\n",
            " -  Who was General Grant?\n",
            " -  What did Ben do to Audrey?\n",
            " -  What was Ben's plan to preserve?\n",
            " -  Who was a potential business partner for Stop Ghostwood Jerry?\n",
            " -  What was the name of the bird that Ben presented to stop ghostwood Jerry to save?\n",
            " -  What did Jerry trade for cannabis?\n",
            " -  What was Jerry's brother's name?\n",
            " -  Who did Jerry interrupt while meeting with Beverly Paige?\n",
            " -  What did Ben reprimand Jerry for?\n",
            " -  Who asked if Jerry was wearing their mother's hat?\n",
            " -  What was Jerry's mother's hat?\n",
            " -  What was Dr. Jacoby's webcast known as?\n",
            " -  When did Jerry become lost in the woods?\n",
            " -  Who did Jerry talk to while high?\n",
            " -  What did Jerry try to do with his foot?\n",
            " -  How did Jerry get phone service?\n",
            " -  What was Jerry's great-nephew's name?\n",
            " -  What did Jerry blame for the disintegration of his binoculars?\n",
            " -  Jerry saw Cooper's doppelganger investigate what?\n",
            " -  What was Jerry's fault?\n",
            " -  Where was Jerry taken into custody by the police?\n",
            " -  Who played Jerry behind the scenes?\n",
            " -  What actor reprised the role in the 2017 revival?\n",
            "\n",
            "\n",
            "Generated questions:\n",
            " -  Who was the playboy brother of Benjamin Horne?\n",
            " -  What was Jerry Horne's uncle's name?\n",
            " -  Who did Jerry watch in his childhood?\n",
            " -  Who did Jerry watch dance with with a flashlight?\n",
            " -  Who was the place kicker in the starting lineup of Twin Peaks High School football team of 1968?\n",
            " -  Who was a member of the Bookhouse Boys?\n",
            " -  When did Big Ed graduate from Gonzaga University?\n",
            " -  Who graduated last in his class at Gonzaga in 1974?\n",
            " -  What year did Jerry begin working with his brother to find business partners for the Ghostwood Development Project?\n",
            " -  What state had Jerry's license to practice law revoked?\n",
            " -  Who was the owner of the Canadian brothel and casino?\n",
            " -  When did Jerry come to the Great Northern Hotel after a trip to Paris?\n",
            " -  What did Jerry bring to Ben?\n",
            " -  Who brought a sandwich for Ben?\n",
            " -  Who told Ben about the murder of Laura Palmer?\n",
            " -  What was the name of the Norwegians who were set to sign the Ghostwood deal?\n",
            " -  What was the name of the brothel's madame?\n",
            " -  Who brought out the drinks at One Eyed Jacks?\n",
            " -  What was one of the brothers first in line?\n",
            " -  Who was the brothel's madame?\n",
            " -  Who brought out the girls?\n",
            " -  What did Jerry lose for Blackie O'Reilly?\n",
            " -  When did Jerry arrive at the Great Northern?\n",
            " -  Who did Jerry tell his brother about?\n",
            " -  What Icelandic woman did Jerry fall for?\n",
            " -  Who did Ben propose to have the visitors sign the deal with?\n",
            " -  What did Jerry do when he broke down crying?\n",
            " -  Where did Jerry go after Jerry broke down?\n",
            " -  What caused Jerry to close the office doors when he broke down crying?\n",
            " -  Who did Jerry woo at a party held for the businessmen at the Great Northern?\n",
            " -  What caused Leland to have a misunderstanding?\n",
            " -  What caused Leland to have a breakdown?\n",
            " -  Jerry went to his brother, who said, \"get Doctor Jacoby, a net, and get out of my life\"?\n",
            " -  What was Ben's only beverage?\n",
            " -  What did Ben have in his mug of beer?\n",
            " -  Who was asked to dismiss them to the dining room?\n",
            " -  What was the name of the restaurant Jerry wanted to go to?\n",
            " -  What did Jerry do to Blackie?\n",
            " -  How did Jerry react to the question about Ben?\n",
            " -  What was Jerry's reaction to Jerry leaving her?\n",
            " -  What did Jerry say she used to be?\n",
            " -  Where did Jerry go to find Ben?\n",
            " -  Who did Jerry leave her with?\n",
            " -  Where did Ben and Leland Palmer discuss Catherine Martell's whereabouts?\n",
            " -  What was Leo Johnson's medical condition?\n",
            " -  What song did Hank Jennings dance with?\n",
            " -  What did Leland say he was back and ready for?\n",
            " -  Who left the night after Josie Packard left?\n",
            " -  Hank Jennings waited for Josie Packard to leave the night before?\n",
            " -  Jerry took issue with Leo apparently chopping wood inside what house?\n",
            " -  Hank noted the probability that what was dead in the wreckage of the mill?\n",
            " -  Who sat with Jerry the next day?\n",
            " -  Who sat with Jerry in front of the two ledgers for the Packard Sawmill?\n",
            " -  What did Jerry go to Ben's office with an insurance policy for the mill?\n",
            " -  Who signed the insurance policy?\n",
            " -  Who signed an insurance policy for the mill?\n",
            " -  Who did Ben have him call the Icelanders as Leland entered?\n",
            " -  What did Einar Thorson say about the fire?\n",
            " -  Who said that Leland called him about the fire?\n",
            " -  What did Ben say to Jerry?\n",
            " -  How long after Jerry's death did he go to the police?\n",
            " -  Who did Jerry ask to kill?\n",
            " -  What was Jerry's brother in custody for?\n",
            " -  Who was Leland responsible for murdering?\n",
            " -  Who did Ben say he was with the night Laura was killed?\n",
            " -  What did Ben and Catherine reminisce about when they were boys?\n",
            " -  Who was the FBI Special Agent that Ben was questioned by?\n",
            " -  Who were the FBI Special Agents questioned by?\n",
            " -  Who was the Sheriff?\n",
            " -  What was Jerry's brother's background in law?\n",
            " -  What did Laura's diary make about Ben?\n",
            " -  Who granted Jerry's request to be left alone with Ben for a moment?\n",
            " -  Jerry reprimanded Ben for what outburst?\n",
            " -  What was the name of the one-armed man brought before Benjamin?\n",
            " -  What did Jerry order Truman to do?\n",
            " -  How long had Ben been held?\n",
            " -  Who charged Ben with Laura's murder?\n",
            " -  What did Ben try to do to the sheriff but Jerry restrained him?\n",
            " -  When was Ben released?\n",
            " -  Who lost the Ghostwood Development Plan to Catherine Martell?\n",
            " -  Who brought Jerry to Ben's office?\n",
            " -  What did Ben believe Jerry to be?\n",
            " -  Who believed Ben to be Jeb Stuart?\n",
            " -  What did Jacoby believe did not help his mental state?\n",
            " -  Who did Jerry tell Audrey that Ben was fun in?\n",
            " -  What role did Ben play in Ben's Civil War?\n",
            " -  Who was General Grant?\n",
            " -  What did Ben do to Audrey?\n",
            " -  What was Ben's plan to preserve?\n",
            " -  Who was a potential business partner for Stop Ghostwood Jerry?\n",
            " -  What was the name of the bird that Ben presented to stop ghostwood Jerry to save?\n",
            " -  What did Jerry trade for cannabis?\n",
            " -  What was Jerry's brother's name?\n",
            " -  Who did Jerry interrupt while meeting with Beverly Paige?\n",
            " -  What did Ben reprimand Jerry for?\n",
            " -  Who asked if Jerry was wearing their mother's hat?\n",
            " -  What was Jerry's mother's hat?\n",
            " -  What was Dr. Jacoby's webcast known as?\n",
            " -  When did Jerry become lost in the woods?\n",
            " -  Who did Jerry talk to while high?\n",
            " -  What did Jerry try to do with his foot?\n",
            " -  How did Jerry get phone service?\n",
            " -  What was Jerry's great-nephew's name?\n",
            " -  What did Jerry blame for the disintegration of his binoculars?\n",
            " -  Jerry saw Cooper's doppelganger investigate what?\n",
            " -  What was Jerry's fault?\n",
            " -  Where was Jerry taken into custody by the police?\n",
            " -  Who played Jerry behind the scenes?\n",
            " -  What actor reprised the role in the 2017 revival?\n"
          ]
        }
      ]
    },
    {
      "cell_type": "code",
      "source": [
        ""
      ],
      "metadata": {
        "id": "QN9xxnTrKLTX"
      },
      "id": "QN9xxnTrKLTX",
      "execution_count": null,
      "outputs": []
    }
  ],
  "metadata": {
    "kernelspec": {
      "display_name": "saturn (Python 3)",
      "language": "python",
      "name": "python3"
    },
    "language_info": {
      "codemirror_mode": {
        "name": "ipython",
        "version": 3
      },
      "file_extension": ".py",
      "mimetype": "text/x-python",
      "name": "python",
      "nbconvert_exporter": "python",
      "pygments_lexer": "ipython3",
      "version": "3.9.5"
    },
    "colab": {
      "name": "question_generation.ipynb",
      "provenance": [],
      "collapsed_sections": [],
      "toc_visible": true
    },
    "accelerator": "GPU",
    "widgets": {
      "application/vnd.jupyter.widget-state+json": {
        "81c8d8eb80d64687bdcc31ab1e3f156e": {
          "model_module": "@jupyter-widgets/controls",
          "model_name": "HBoxModel",
          "model_module_version": "1.5.0",
          "state": {
            "_dom_classes": [],
            "_model_module": "@jupyter-widgets/controls",
            "_model_module_version": "1.5.0",
            "_model_name": "HBoxModel",
            "_view_count": null,
            "_view_module": "@jupyter-widgets/controls",
            "_view_module_version": "1.5.0",
            "_view_name": "HBoxView",
            "box_style": "",
            "children": [
              "IPY_MODEL_b18ba72ca8e94c508fde617b04b82273",
              "IPY_MODEL_0cc8731e80994ab097236f295da512c7",
              "IPY_MODEL_e1b08799bca14b7aa8aed017b5545923"
            ],
            "layout": "IPY_MODEL_4ee263ae48834c5dbb138a5dbe2183bd"
          }
        },
        "b18ba72ca8e94c508fde617b04b82273": {
          "model_module": "@jupyter-widgets/controls",
          "model_name": "HTMLModel",
          "model_module_version": "1.5.0",
          "state": {
            "_dom_classes": [],
            "_model_module": "@jupyter-widgets/controls",
            "_model_module_version": "1.5.0",
            "_model_name": "HTMLModel",
            "_view_count": null,
            "_view_module": "@jupyter-widgets/controls",
            "_view_module_version": "1.5.0",
            "_view_name": "HTMLView",
            "description": "",
            "description_tooltip": null,
            "layout": "IPY_MODEL_ae4e66819ab04f68a867768d03bc4a04",
            "placeholder": "​",
            "style": "IPY_MODEL_6bba9b7051f64993a477688eb8c6ed92",
            "value": "Writing Documents: "
          }
        },
        "0cc8731e80994ab097236f295da512c7": {
          "model_module": "@jupyter-widgets/controls",
          "model_name": "FloatProgressModel",
          "model_module_version": "1.5.0",
          "state": {
            "_dom_classes": [],
            "_model_module": "@jupyter-widgets/controls",
            "_model_module_version": "1.5.0",
            "_model_name": "FloatProgressModel",
            "_view_count": null,
            "_view_module": "@jupyter-widgets/controls",
            "_view_module_version": "1.5.0",
            "_view_name": "ProgressView",
            "bar_style": "success",
            "description": "",
            "description_tooltip": null,
            "layout": "IPY_MODEL_96e28522b93b4c77a9d6da982d601465",
            "max": 134,
            "min": 0,
            "orientation": "horizontal",
            "style": "IPY_MODEL_9eb3c190c28b47618572ecd9e3b80932",
            "value": 134
          }
        },
        "e1b08799bca14b7aa8aed017b5545923": {
          "model_module": "@jupyter-widgets/controls",
          "model_name": "HTMLModel",
          "model_module_version": "1.5.0",
          "state": {
            "_dom_classes": [],
            "_model_module": "@jupyter-widgets/controls",
            "_model_module_version": "1.5.0",
            "_model_name": "HTMLModel",
            "_view_count": null,
            "_view_module": "@jupyter-widgets/controls",
            "_view_module_version": "1.5.0",
            "_view_name": "HTMLView",
            "description": "",
            "description_tooltip": null,
            "layout": "IPY_MODEL_887b5bcc8d1e4c38b40700d324424f33",
            "placeholder": "​",
            "style": "IPY_MODEL_3739785a410b4eadb0c36881e41b88ed",
            "value": " 10000/? [00:00&lt;00:00, 14955.47it/s]"
          }
        },
        "4ee263ae48834c5dbb138a5dbe2183bd": {
          "model_module": "@jupyter-widgets/base",
          "model_name": "LayoutModel",
          "model_module_version": "1.2.0",
          "state": {
            "_model_module": "@jupyter-widgets/base",
            "_model_module_version": "1.2.0",
            "_model_name": "LayoutModel",
            "_view_count": null,
            "_view_module": "@jupyter-widgets/base",
            "_view_module_version": "1.2.0",
            "_view_name": "LayoutView",
            "align_content": null,
            "align_items": null,
            "align_self": null,
            "border": null,
            "bottom": null,
            "display": null,
            "flex": null,
            "flex_flow": null,
            "grid_area": null,
            "grid_auto_columns": null,
            "grid_auto_flow": null,
            "grid_auto_rows": null,
            "grid_column": null,
            "grid_gap": null,
            "grid_row": null,
            "grid_template_areas": null,
            "grid_template_columns": null,
            "grid_template_rows": null,
            "height": null,
            "justify_content": null,
            "justify_items": null,
            "left": null,
            "margin": null,
            "max_height": null,
            "max_width": null,
            "min_height": null,
            "min_width": null,
            "object_fit": null,
            "object_position": null,
            "order": null,
            "overflow": null,
            "overflow_x": null,
            "overflow_y": null,
            "padding": null,
            "right": null,
            "top": null,
            "visibility": null,
            "width": null
          }
        },
        "ae4e66819ab04f68a867768d03bc4a04": {
          "model_module": "@jupyter-widgets/base",
          "model_name": "LayoutModel",
          "model_module_version": "1.2.0",
          "state": {
            "_model_module": "@jupyter-widgets/base",
            "_model_module_version": "1.2.0",
            "_model_name": "LayoutModel",
            "_view_count": null,
            "_view_module": "@jupyter-widgets/base",
            "_view_module_version": "1.2.0",
            "_view_name": "LayoutView",
            "align_content": null,
            "align_items": null,
            "align_self": null,
            "border": null,
            "bottom": null,
            "display": null,
            "flex": null,
            "flex_flow": null,
            "grid_area": null,
            "grid_auto_columns": null,
            "grid_auto_flow": null,
            "grid_auto_rows": null,
            "grid_column": null,
            "grid_gap": null,
            "grid_row": null,
            "grid_template_areas": null,
            "grid_template_columns": null,
            "grid_template_rows": null,
            "height": null,
            "justify_content": null,
            "justify_items": null,
            "left": null,
            "margin": null,
            "max_height": null,
            "max_width": null,
            "min_height": null,
            "min_width": null,
            "object_fit": null,
            "object_position": null,
            "order": null,
            "overflow": null,
            "overflow_x": null,
            "overflow_y": null,
            "padding": null,
            "right": null,
            "top": null,
            "visibility": null,
            "width": null
          }
        },
        "6bba9b7051f64993a477688eb8c6ed92": {
          "model_module": "@jupyter-widgets/controls",
          "model_name": "DescriptionStyleModel",
          "model_module_version": "1.5.0",
          "state": {
            "_model_module": "@jupyter-widgets/controls",
            "_model_module_version": "1.5.0",
            "_model_name": "DescriptionStyleModel",
            "_view_count": null,
            "_view_module": "@jupyter-widgets/base",
            "_view_module_version": "1.2.0",
            "_view_name": "StyleView",
            "description_width": ""
          }
        },
        "96e28522b93b4c77a9d6da982d601465": {
          "model_module": "@jupyter-widgets/base",
          "model_name": "LayoutModel",
          "model_module_version": "1.2.0",
          "state": {
            "_model_module": "@jupyter-widgets/base",
            "_model_module_version": "1.2.0",
            "_model_name": "LayoutModel",
            "_view_count": null,
            "_view_module": "@jupyter-widgets/base",
            "_view_module_version": "1.2.0",
            "_view_name": "LayoutView",
            "align_content": null,
            "align_items": null,
            "align_self": null,
            "border": null,
            "bottom": null,
            "display": null,
            "flex": null,
            "flex_flow": null,
            "grid_area": null,
            "grid_auto_columns": null,
            "grid_auto_flow": null,
            "grid_auto_rows": null,
            "grid_column": null,
            "grid_gap": null,
            "grid_row": null,
            "grid_template_areas": null,
            "grid_template_columns": null,
            "grid_template_rows": null,
            "height": null,
            "justify_content": null,
            "justify_items": null,
            "left": null,
            "margin": null,
            "max_height": null,
            "max_width": null,
            "min_height": null,
            "min_width": null,
            "object_fit": null,
            "object_position": null,
            "order": null,
            "overflow": null,
            "overflow_x": null,
            "overflow_y": null,
            "padding": null,
            "right": null,
            "top": null,
            "visibility": null,
            "width": null
          }
        },
        "9eb3c190c28b47618572ecd9e3b80932": {
          "model_module": "@jupyter-widgets/controls",
          "model_name": "ProgressStyleModel",
          "model_module_version": "1.5.0",
          "state": {
            "_model_module": "@jupyter-widgets/controls",
            "_model_module_version": "1.5.0",
            "_model_name": "ProgressStyleModel",
            "_view_count": null,
            "_view_module": "@jupyter-widgets/base",
            "_view_module_version": "1.2.0",
            "_view_name": "StyleView",
            "bar_color": null,
            "description_width": ""
          }
        },
        "887b5bcc8d1e4c38b40700d324424f33": {
          "model_module": "@jupyter-widgets/base",
          "model_name": "LayoutModel",
          "model_module_version": "1.2.0",
          "state": {
            "_model_module": "@jupyter-widgets/base",
            "_model_module_version": "1.2.0",
            "_model_name": "LayoutModel",
            "_view_count": null,
            "_view_module": "@jupyter-widgets/base",
            "_view_module_version": "1.2.0",
            "_view_name": "LayoutView",
            "align_content": null,
            "align_items": null,
            "align_self": null,
            "border": null,
            "bottom": null,
            "display": null,
            "flex": null,
            "flex_flow": null,
            "grid_area": null,
            "grid_auto_columns": null,
            "grid_auto_flow": null,
            "grid_auto_rows": null,
            "grid_column": null,
            "grid_gap": null,
            "grid_row": null,
            "grid_template_areas": null,
            "grid_template_columns": null,
            "grid_template_rows": null,
            "height": null,
            "justify_content": null,
            "justify_items": null,
            "left": null,
            "margin": null,
            "max_height": null,
            "max_width": null,
            "min_height": null,
            "min_width": null,
            "object_fit": null,
            "object_position": null,
            "order": null,
            "overflow": null,
            "overflow_x": null,
            "overflow_y": null,
            "padding": null,
            "right": null,
            "top": null,
            "visibility": null,
            "width": null
          }
        },
        "3739785a410b4eadb0c36881e41b88ed": {
          "model_module": "@jupyter-widgets/controls",
          "model_name": "DescriptionStyleModel",
          "model_module_version": "1.5.0",
          "state": {
            "_model_module": "@jupyter-widgets/controls",
            "_model_module_version": "1.5.0",
            "_model_name": "DescriptionStyleModel",
            "_view_count": null,
            "_view_module": "@jupyter-widgets/base",
            "_view_module_version": "1.2.0",
            "_view_name": "StyleView",
            "description_width": ""
          }
        }
      }
    }
  },
  "nbformat": 4,
  "nbformat_minor": 5
}